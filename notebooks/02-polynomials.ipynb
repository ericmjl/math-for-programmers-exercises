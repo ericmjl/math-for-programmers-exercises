{
 "cells": [
  {
   "cell_type": "markdown",
   "metadata": {},
   "source": [
    "# Chapter 2: Polynomials"
   ]
  },
  {
   "cell_type": "markdown",
   "metadata": {},
   "source": [
    "## Definition\n",
    "\n",
    "> A single variable polynomial with real coefficients is a function f that takes a real number as input, produces a real number as output, and has the form:\n",
    "> $$f(x) = a_0 + {a_1}x + {a_x}{x^2} + ... + {a_n}{x^n}$$\n",
    "> where:\n",
    "> - $a_{i}$  are real numbers, and are called the *coefficients of $f$*, and\n",
    "> - $n$ is a positive, non-zero integer, and is the degree of the polynomial.\n",
    ">\n",
    "> If $C$ is a constant, then by convention, $f(x)= C$ is a zero-degree polynomial.\n",
    "\n",
    "## Exercise\n",
    "\n",
    "Which of the following are polynomials? Which are not?\n",
    "\n",
    "$$f(x) = 0$$\n",
    "\n",
    "This is a zero-degree polynomial.\n",
    "\n",
    "$$g(x) = 12$$\n",
    "\n",
    "This is also a zero-degree polynomial.\n",
    "\n",
    "$$h(x) = 1 + x + x^2 + x^3$$\n",
    "\n",
    "This is a degree 3 polynomial.\n",
    "\n",
    "$$i(x) = x^{\\frac{1}{2}}$$\n",
    "\n",
    "This is not a polynomial, because $n$ is not an integer.\n",
    "\n",
    "$$k(x) = 4.5 + \\frac{1}{x} - \\frac{5}{x^2}$$\n",
    "\n",
    "This is not a polynomial, because $\\frac{1}{x}$ can be written as $x^{-1}$, and $\\frac{5}{x^2}$ can be written as $5x^{-2}$, which would make $n$ a negative integer. Hence, this is not a polynomial.\n",
    "\n",
    "$$l(x) = \\pi - \\frac{1}{e}x^5 + e\\pi^3x^{10}$$\n",
    "\n",
    "Here, coefficients are irrational, but nonetheless real numbers. $n=10$, which is a positive, non-zero integer.\n",
    "\n",
    "$$m(x) = x + x^2 - x^{\\pi} + x^e$$\n",
    "\n",
    "In this one, $\\pi$ and $e$ are not integers. Hence this fails."
   ]
  },
  {
   "cell_type": "markdown",
   "metadata": {},
   "source": [
    "## Python Example\n",
    "\n",
    "Let's write a Python function to evaluate a polynomial, while also baking in these checks."
   ]
  },
  {
   "cell_type": "code",
   "execution_count": 23,
   "metadata": {},
   "outputs": [],
   "source": [
    "from typing import Union, List, Tuple\n",
    "import math\n",
    "\n",
    "def polynomial(x, coefficients: Union[List, Tuple], degree: int):\n",
    "    \"\"\"\n",
    "    Evaluates a polynomial with specified coefficients and degree powers.\n",
    "    \"\"\"    \n",
    "    # First check that degree is a positive integer.\n",
    "    if not (isinstance(degree, int) and degree >= 0):\n",
    "        raise TypeError('degree must be a positive integer')\n",
    "    \n",
    "    # Next, check that each number is not complex, only real numbers allowed.\n",
    "    for c in coefficients:\n",
    "        if isinstance(c, complex):\n",
    "            raise TypeError('coefficients must be real numbers')\n",
    "    # Finally, if we want a degree k polynomial, we must specify polynomial coeffs\n",
    "    # up to the kth degree, including the 0th power.\n",
    "    if not len(coefficients) == degree + 1:\n",
    "        raise ValueError('number of specified coefficients must be one greater than the degree')\n",
    "            \n",
    "    result = 0\n",
    "    for c, d in zip(coefficients, range(degree+1)):\n",
    "        result += c * x ** d\n",
    "    return result"
   ]
  },
  {
   "cell_type": "code",
   "execution_count": 26,
   "metadata": {},
   "outputs": [
    {
     "data": {
      "text/plain": [
       "36"
      ]
     },
     "execution_count": 26,
     "metadata": {},
     "output_type": "execute_result"
    }
   ],
   "source": [
    "polynomial(2, [12, 0, 0, 3], 3)"
   ]
  },
  {
   "cell_type": "code",
   "execution_count": 27,
   "metadata": {},
   "outputs": [
    {
     "data": {
      "text/plain": [
       "37.132741228718345"
      ]
     },
     "execution_count": 27,
     "metadata": {},
     "output_type": "execute_result"
    }
   ],
   "source": [
    "polynomial(2, [12, 0, 0, math.pi], 3)"
   ]
  },
  {
   "cell_type": "code",
   "execution_count": null,
   "metadata": {},
   "outputs": [],
   "source": []
  }
 ],
 "metadata": {
  "kernelspec": {
   "display_name": "math-for-programmers",
   "language": "python",
   "name": "math-for-programmers"
  },
  "language_info": {
   "codemirror_mode": {
    "name": "ipython",
    "version": 3
   },
   "file_extension": ".py",
   "mimetype": "text/x-python",
   "name": "python",
   "nbconvert_exporter": "python",
   "pygments_lexer": "ipython3",
   "version": "3.6.7"
  }
 },
 "nbformat": 4,
 "nbformat_minor": 2
}
